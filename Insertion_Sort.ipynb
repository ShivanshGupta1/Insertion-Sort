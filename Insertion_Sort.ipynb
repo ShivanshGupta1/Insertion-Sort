{
  "nbformat": 4,
  "nbformat_minor": 0,
  "metadata": {
    "colab": {
      "name": "Insertion Sort.ipynb",
      "provenance": [],
      "authorship_tag": "ABX9TyPLa6oqopit+fPZ0+5vQUWE",
      "include_colab_link": true
    },
    "kernelspec": {
      "name": "python3",
      "display_name": "Python 3"
    },
    "language_info": {
      "name": "python"
    }
  },
  "cells": [
    {
      "cell_type": "markdown",
      "metadata": {
        "id": "view-in-github",
        "colab_type": "text"
      },
      "source": [
        "<a href=\"https://colab.research.google.com/github/ShivanshGupta1/Insertion-Sort/blob/main/Insertion_Sort.ipynb\" target=\"_parent\"><img src=\"https://colab.research.google.com/assets/colab-badge.svg\" alt=\"Open In Colab\"/></a>"
      ]
    },
    {
      "cell_type": "code",
      "metadata": {
        "id": "NnzqGJGs4y4O"
      },
      "source": [
        "arr = eval(input(\"Your List: \"))#[1,2,3]\n",
        "def Insertion(arr):\n",
        "  for i in range(1,len(arr)):\n",
        "    iIndex = i\n",
        "    iValue = arr[i]\n",
        "    while iIndex>0 and arr[iIndex-1]>arr[iIndex]:\n",
        "      arr[iIndex] = arr[iIndex-1]\n",
        "      iIndex-=1\n",
        "      arr[iIndex] = iValue\n",
        "  return arr\n",
        "result =  Insertion(arr)  \n",
        "print(result)"
      ],
      "execution_count": null,
      "outputs": []
    }
  ]
}